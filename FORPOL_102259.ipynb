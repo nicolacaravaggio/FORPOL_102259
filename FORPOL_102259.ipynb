{
  "nbformat": 4,
  "nbformat_minor": 0,
  "metadata": {
    "colab": {
      "name": "Untitled0.ipynb",
      "provenance": []
    },
    "kernelspec": {
      "name": "python3",
      "display_name": "Python 3"
    }
  },
  "cells": [
    {
      "cell_type": "markdown",
      "metadata": {
        "id": "gMD1WBCISsUF",
        "colab_type": "text"
      },
      "source": [
        "![alt text](https://i.imgur.com/B6sL3s3.jpg)"
      ]
    },
    {
      "cell_type": "code",
      "metadata": {
        "id": "v5_QGijWTExT",
        "colab_type": "code",
        "colab": {}
      },
      "source": [
        ""
      ],
      "execution_count": null,
      "outputs": []
    }
  ]
}